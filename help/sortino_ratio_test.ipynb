{
 "cells": [
  {
   "cell_type": "code",
   "execution_count": 15,
   "metadata": {
    "collapsed": true
   },
   "outputs": [
    {
     "name": "stdout",
     "output_type": "stream",
     "text": [
      "5.0839112744179396\n",
      "6.480740698407859\n",
      "0\n",
      "-15.874507866387544\n"
     ]
    },
    {
     "name": "stderr",
     "output_type": "stream",
     "text": [
      "C:\\Users\\loki_\\AppData\\Roaming\\Python\\Python39\\site-packages\\empyrical\\stats.py:799: RuntimeWarning: divide by zero encountered in divide\n",
      "  np.divide(average_annual_return, annualized_downside_risk, out=out)\n"
     ]
    }
   ],
   "source": [
    "from empyrical import sortino_ratio\n",
    "import numpy as np\n",
    "a = [1.0, 0.8, 0.5, 1.2]\n",
    "b = [1.0, 0.8, 0.6, 1.2]\n",
    "c = [1.0, 1.1, 1.1, 1.2]\n",
    "d = [1.0, 0.9, 0.8, 0.7]\n",
    "a = np.diff(a)\n",
    "b = np.diff(b)\n",
    "c = np.diff(c)\n",
    "d = np.diff(d)\n",
    "\n",
    "rewarda = sortino_ratio(a, required_return=0)\n",
    "print(rewarda)\n",
    "rewardb = sortino_ratio(b, required_return=0)\n",
    "print(rewardb)\n",
    "rewardc = sortino_ratio(c, required_return=0)\n",
    "print(rewardc if np.isfinite(rewardc) else 0)\n",
    "rewardd = sortino_ratio(d,required_return=0)\n",
    "print(rewardd )\n",
    "\n"
   ]
  },
  {
   "cell_type": "code",
   "execution_count": 14,
   "outputs": [
    {
     "name": "stdout",
     "output_type": "stream",
     "text": [
      "1.9215378456610452\n",
      "2.2912878474779195\n",
      "18.33030277982336\n",
      "-2.4669525578254956e+16\n"
     ]
    }
   ],
   "source": [
    "from empyrical import sharpe_ratio\n",
    "import numpy as np\n",
    "a = [1.0, 0.8, 0.5, 1.2]\n",
    "b = [1.0, 0.8, 0.6, 1.2]\n",
    "c = [1.0, 1.1, 1.1, 1.2]\n",
    "\n",
    "d = [1.0, 0.9, 0.8, 0.7]\n",
    "a = np.diff(a)\n",
    "b = np.diff(b)\n",
    "c = np.diff(c)\n",
    "d = np.diff(d)\n",
    "\n",
    "risk_free_rate = 0.002\n",
    "risk_free_rate = 0\n",
    "\n",
    "rewarda = sharpe_ratio(a, risk_free=risk_free_rate)\n",
    "print(rewarda)\n",
    "rewardb = sharpe_ratio(b, risk_free=risk_free_rate)\n",
    "print(rewardb)\n",
    "rewardc = sharpe_ratio(c, risk_free=risk_free_rate)\n",
    "print(rewardc if np.isfinite(rewardc) else 0)\n",
    "rewardd = sharpe_ratio(d,risk_free=risk_free_rate)\n",
    "print(rewardd )\n"
   ],
   "metadata": {
    "collapsed": false
   }
  },
  {
   "cell_type": "code",
   "execution_count": 22,
   "outputs": [
    {
     "name": "stdout",
     "output_type": "stream",
     "text": [
      "18.327553234406388\n",
      "23.808586898008038\n",
      "19.44027787301406\n",
      "17.324061540358183\n"
     ]
    }
   ],
   "source": [
    "risk_free_rate = 0.00001\n",
    "rewardbb1 = sharpe_ratio(np.diff([1.0, 1.1, 1.1, 1.2]), risk_free=risk_free_rate)\n",
    "rewardbb2 = sharpe_ratio(np.diff([1.0, 1.1, 1.1, 1.2,1.3]), risk_free=risk_free_rate)\n",
    "rewardbb3 = sharpe_ratio(np.diff([1.0, 1.1, 1.1, 1.2,1.4]), risk_free=risk_free_rate)\n",
    "rewardbb4 = sharpe_ratio(np.diff([1.0, 1.1, 1.1, 1.2,1.45]), risk_free=risk_free_rate)\n",
    "print(rewardbb1)\n",
    "print(rewardbb2)\n",
    "print(rewardbb3)\n",
    "print(rewardbb4)"
   ],
   "metadata": {
    "collapsed": false
   }
  },
  {
   "cell_type": "code",
   "execution_count": 33,
   "outputs": [
    {
     "name": "stdout",
     "output_type": "stream",
     "text": [
      "18.330302779823338\n",
      "23.811761799581294\n",
      "31.74901573277505\n",
      "35.717642699371936\n",
      "357.17642699371936\n",
      "7.897862851668333\n",
      "-2.6442826729769253\n",
      "nan\n",
      "nan\n"
     ]
    }
   ],
   "source": [
    "from empyrical import sortino_ratio\n",
    "rewardbb1 = sortino_ratio(np.diff([1.0, 1.1, 1.0, 1.2]), required_return=0)\n",
    "rewardbb2 = sortino_ratio(np.diff([1.0, 1.1, 1.0, 1.2,1.3]), required_return=0)\n",
    "rewardbb3 = sortino_ratio(np.diff([1.0, 1.1, 1.0, 1.2,1.4]), required_return=0)\n",
    "rewardbb4 = sortino_ratio(np.diff([1.0, 1.1, 1.0, 1.2,1.45]), required_return=0)\n",
    "rewardbb5 = sortino_ratio(np.diff([1.0, 1.1, 1.09, 1.2,1.45]), required_return=0)\n",
    "rewardbb6 = sortino_ratio(np.diff([1.0, 1.1, 1.09, 1.2,1.1]), required_return=0)\n",
    "rewardbb7 = sortino_ratio(np.diff([1.0, 1.1, 1.09, 1.2, 0.9]), required_return=0)\n",
    "rewardbb8 = sortino_ratio(np.diff([1.0, 1.1]), required_return=0)\n",
    "rewardbb9 = sortino_ratio(np.diff([1.0, 0.9]), required_return=0)\n",
    "print(rewardbb1)\n",
    "print(rewardbb2)\n",
    "print(rewardbb3)\n",
    "print(rewardbb4)\n",
    "print(rewardbb5)\n",
    "print(rewardbb6)\n",
    "print(rewardbb7)\n",
    "print(rewardbb8)\n",
    "print(rewardbb9)"
   ],
   "metadata": {
    "collapsed": false
   }
  },
  {
   "cell_type": "code",
   "execution_count": 29,
   "outputs": [
    {
     "name": "stdout",
     "output_type": "stream",
     "text": [
      "2.999999999999998\n",
      "3.999999999999998\n",
      "4.999999999999996\n",
      "5.499999999999996\n",
      "45.99999999999996\n",
      "9.999999999999991\n",
      "9.799999999999992\n"
     ]
    }
   ],
   "source": [
    "from empyrical import omega_ratio\n",
    "rewardbb1 = omega_ratio(np.diff([1.0, 1.1, 1.0, 1.2]), required_return=0)\n",
    "rewardbb2 = omega_ratio(np.diff([1.0, 1.1, 1.0, 1.2,1.3]), required_return=0)\n",
    "rewardbb3 = omega_ratio(np.diff([1.0, 1.1, 1.0, 1.2,1.4]), required_return=0)\n",
    "rewardbb4 = omega_ratio(np.diff([1.0, 1.1, 1.0, 1.2,1.45]), required_return=0)\n",
    "rewardbb5 = omega_ratio(np.diff([1.0, 1.1, 1.09, 1.2,1.45]), required_return=0)\n",
    "rewardbb6 = omega_ratio(np.diff([1.0, 1.1, 1.05, 1.2,1.45]), required_return=0)\n",
    "rewardbb7 = omega_ratio(np.diff([1.0, 1.1, 1.05, 1.2,1.44]), required_return=0)\n",
    "print(rewardbb1)\n",
    "print(rewardbb2)\n",
    "print(rewardbb3)\n",
    "print(rewardbb4)\n",
    "print(rewardbb5)\n",
    "print(rewardbb6)\n",
    "print(rewardbb7)"
   ],
   "metadata": {
    "collapsed": false
   }
  },
  {
   "cell_type": "code",
   "execution_count": 36,
   "outputs": [
    {
     "name": "stdout",
     "output_type": "stream",
     "text": [
      "19256652.293531496\n",
      "209495599.4683175\n",
      "50333167483.754875\n",
      "658819704852.9565\n",
      "19653273940378.29\n",
      "2720514566578.729\n",
      "1640160699232.5522\n",
      "447478469952.6233\n"
     ]
    }
   ],
   "source": [
    "from empyrical import calmar_ratio\n",
    "\n",
    "rewardbb1 = calmar_ratio(np.diff([1.0, 1.1, 1.0, 1.2]) )\n",
    "rewardbb2 = calmar_ratio(np.diff([1.0, 1.1, 1.0, 1.2, 1.3]))\n",
    "rewardbb3 = calmar_ratio(np.diff([1.0, 1.1, 1.0, 1.2, 1.4]))\n",
    "rewardbb4 = calmar_ratio(np.diff([1.0, 1.1, 1.0, 1.2, 1.45]))\n",
    "rewardbb5 = calmar_ratio(np.diff([1.0, 1.1, 1.09, 1.2, 1.45]))\n",
    "rewardbb6 = calmar_ratio(np.diff([1.0, 1.1, 1.05, 1.2, 1.45]))\n",
    "rewardbb7 = calmar_ratio(np.diff([1.0, 1.1, 1.05, 1.2, 1.44]))\n",
    "rewardbb8 = calmar_ratio(np.diff([1.0, 0.9, 1.05, 1.2, 1.44]))\n",
    "print(rewardbb1)\n",
    "print(rewardbb2)\n",
    "print(rewardbb3)\n",
    "print(rewardbb4)\n",
    "print(rewardbb5)\n",
    "print(rewardbb6)\n",
    "print(rewardbb7)\n",
    "print(rewardbb8)"
   ],
   "metadata": {
    "collapsed": false
   }
  }
 ],
 "metadata": {
  "kernelspec": {
   "display_name": "Python 3",
   "language": "python",
   "name": "python3"
  },
  "language_info": {
   "codemirror_mode": {
    "name": "ipython",
    "version": 2
   },
   "file_extension": ".py",
   "mimetype": "text/x-python",
   "name": "python",
   "nbconvert_exporter": "python",
   "pygments_lexer": "ipython2",
   "version": "2.7.6"
  }
 },
 "nbformat": 4,
 "nbformat_minor": 0
}
