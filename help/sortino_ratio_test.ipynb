{
 "cells": [
  {
   "cell_type": "code",
   "execution_count": null,
   "metadata": {
    "collapsed": true
   },
   "outputs": [],
   "source": [
    "from empyrical import sortino_ratio\n",
    "import numpy as np\n",
    "a = [1.0, 0.8, 0.5, 1.2]\n",
    "b = [1.0, 0.8, 0.6, 1.2]\n",
    "c = [1.0, 1.1, 1.1, 1.2]\n",
    "d = [1.0, 0.9, 0.8, 0.7]\n",
    "a = np.diff(a)\n",
    "b = np.diff(b)\n",
    "c = np.diff(c)\n",
    "d = np.diff(d)\n",
    "\n",
    "rewarda = sortino_ratio(a, required_return=0)\n",
    "print(rewarda)\n",
    "rewardb = sortino_ratio(b, required_return=0)\n",
    "print(rewardb)\n",
    "rewardc = sortino_ratio(c, required_return=0)\n",
    "print(rewardc if np.isfinite(rewardc) else 0)\n",
    "rewardd = sortino_ratio(d,required_return=0)\n",
    "print(rewardd )\n",
    "\n"
   ]
  },
  {
   "cell_type": "code",
   "execution_count": null,
   "outputs": [],
   "source": [],
   "metadata": {
    "collapsed": false
   }
  },
  {
   "cell_type": "code",
   "execution_count": null,
   "outputs": [],
   "source": [
    "from empyrical import sharpe_ratio\n",
    "import numpy as np\n",
    "a = [1.0, 0.8, 0.5, 1.2]\n",
    "b = [1.0, 0.8, 0.6, 1.2]\n",
    "c = [1.0, 1.1, 1.1, 1.2]\n",
    "\n",
    "d = [1.0, 0.9, 0.8, 0.7]\n",
    "a = np.diff(a)\n",
    "b = np.diff(b)\n",
    "c = np.diff(c)\n",
    "d = np.diff(d)\n",
    "\n",
    "risk_free_rate = 0.002\n",
    "risk_free_rate = 0\n",
    "\n",
    "rewarda = sharpe_ratio(a, risk_free=risk_free_rate)\n",
    "print(rewarda)\n",
    "rewardb = sharpe_ratio(b, risk_free=risk_free_rate)\n",
    "print(rewardb)\n",
    "rewardc = sharpe_ratio(c, risk_free=risk_free_rate)\n",
    "print(rewardc if np.isfinite(rewardc) else 0)\n",
    "rewardd = sharpe_ratio(d,risk_free=risk_free_rate)\n",
    "print(rewardd )\n"
   ],
   "metadata": {
    "collapsed": false
   }
  },
  {
   "cell_type": "code",
   "execution_count": null,
   "outputs": [],
   "source": [
    "risk_free_rate = 0.00001\n",
    "rewardbb1 = sharpe_ratio(np.diff([1.0, 1.1, 1.1, 1.2]), risk_free=risk_free_rate)\n",
    "rewardbb2 = sharpe_ratio(np.diff([1.0, 1.1, 1.1, 1.2,1.3]), risk_free=risk_free_rate)\n",
    "rewardbb3 = sharpe_ratio(np.diff([1.0, 1.1, 1.1, 1.2,1.4]), risk_free=risk_free_rate)\n",
    "rewardbb4 = sharpe_ratio(np.diff([1.0, 1.1, 1.1, 1.2,1.45]), risk_free=risk_free_rate)\n",
    "print(rewardbb1)\n",
    "print(rewardbb2)\n",
    "print(rewardbb3)\n",
    "print(rewardbb4)"
   ],
   "metadata": {
    "collapsed": false
   }
  },
  {
   "cell_type": "code",
   "execution_count": null,
   "outputs": [],
   "source": [
    "from empyrical import sortino_ratio\n",
    "rewardbb1 = sortino_ratio(np.diff([1.0, 1.1, 1.0, 1.2]), required_return=0)\n",
    "rewardbb2 = sortino_ratio(np.diff([1.0, 1.1, 1.0, 1.2,1.3]), required_return=0)\n",
    "rewardbb3 = sortino_ratio(np.diff([1.0, 1.1, 1.0, 1.2,1.4]), required_return=0)\n",
    "rewardbb4 = sortino_ratio(np.diff([1.0, 1.1, 1.0, 1.2,1.45]), required_return=0)\n",
    "rewardbb5 = sortino_ratio(np.diff([1.0, 1.1, 1.09, 1.2,1.45]), required_return=0)\n",
    "rewardbb6 = sortino_ratio(np.diff([1.0, 1.1, 1.09, 1.2,1.1]), required_return=0)\n",
    "rewardbb7 = sortino_ratio(np.diff([1.0, 1.1, 1.09, 1.2, 0.9]), required_return=0)\n",
    "rewardbb8 = sortino_ratio(np.diff([1.0, 1.1]), required_return=0)\n",
    "rewardbb9 = sortino_ratio(np.diff([1.0, 0.9]), required_return=0)\n",
    "print(rewardbb1)\n",
    "print(rewardbb2)\n",
    "print(rewardbb3)\n",
    "print(rewardbb4)\n",
    "print(rewardbb5)\n",
    "print(rewardbb6)\n",
    "print(rewardbb7)\n",
    "print(rewardbb8)\n",
    "print(rewardbb9)"
   ],
   "metadata": {
    "collapsed": false
   }
  },
  {
   "cell_type": "code",
   "execution_count": null,
   "outputs": [],
   "source": [
    "from empyrical import omega_ratio\n",
    "rewardbb1 = omega_ratio(np.diff([1.0, 1.1, 1.0, 1.2]), required_return=0)\n",
    "rewardbb2 = omega_ratio(np.diff([1.0, 1.1, 1.0, 1.2,1.3]), required_return=0)\n",
    "rewardbb3 = omega_ratio(np.diff([1.0, 1.1, 1.0, 1.2,1.4]), required_return=0)\n",
    "rewardbb4 = omega_ratio(np.diff([1.0, 1.1, 1.0, 1.2,1.45]), required_return=0)\n",
    "rewardbb5 = omega_ratio(np.diff([1.0, 1.1, 1.09, 1.2,1.45]), required_return=0)\n",
    "rewardbb6 = omega_ratio(np.diff([1.0, 1.1, 1.05, 1.2,1.45]), required_return=0)\n",
    "rewardbb7 = omega_ratio(np.diff([1.0, 1.1, 1.05, 1.2,1.44]), required_return=0)\n",
    "print(rewardbb1)\n",
    "print(rewardbb2)\n",
    "print(rewardbb3)\n",
    "print(rewardbb4)\n",
    "print(rewardbb5)\n",
    "print(rewardbb6)\n",
    "print(rewardbb7)"
   ],
   "metadata": {
    "collapsed": false
   }
  },
  {
   "cell_type": "code",
   "execution_count": null,
   "outputs": [],
   "source": [
    "from empyrical import calmar_ratio\n",
    "\n",
    "rewardbb1 = calmar_ratio(np.diff([1.0, 1.1, 1.0, 1.2]) )\n",
    "rewardbb2 = calmar_ratio(np.diff([1.0, 1.1, 1.0, 1.2, 1.3]))\n",
    "rewardbb3 = calmar_ratio(np.diff([1.0, 1.1, 1.0, 1.2, 1.4]))\n",
    "rewardbb4 = calmar_ratio(np.diff([1.0, 1.1, 1.0, 1.2, 1.45]))\n",
    "rewardbb5 = calmar_ratio(np.diff([1.0, 1.1, 1.09, 1.2, 1.45]))\n",
    "rewardbb6 = calmar_ratio(np.diff([1.0, 1.1, 1.05, 1.2, 1.45]))\n",
    "rewardbb7 = calmar_ratio(np.diff([1.0, 1.1, 1.05, 1.2, 1.44]))\n",
    "rewardbb8 = calmar_ratio(np.diff([1.0, 0.9, 1.05, 1.2, 1.44]))\n",
    "print(rewardbb1)\n",
    "print(rewardbb2)\n",
    "print(rewardbb3)\n",
    "print(rewardbb4)\n",
    "print(rewardbb5)\n",
    "print(rewardbb6)\n",
    "print(rewardbb7)\n",
    "print(rewardbb8)"
   ],
   "metadata": {
    "collapsed": false
   }
  },
  {
   "cell_type": "code",
   "execution_count": 18,
   "outputs": [
    {
     "name": "stdout",
     "output_type": "stream",
     "text": [
      "0.28927219354410016\n",
      "0.36042171519378513\n",
      "0.1145495436766071\n",
      "0.400000003\n",
      "0.889139705216602\n",
      "0.7573237981426054\n"
     ]
    }
   ],
   "source": [
    "import pandas as pd\n",
    "_risk_free_rate = 0\n",
    "_target_returns = 0\n",
    "\n",
    "def _sortino_ratio(returns: 'pd.Series') -> float:\n",
    "    downside_returns = returns.copy()\n",
    "    downside_returns[returns < _target_returns] = returns ** 2\n",
    "\n",
    "    expected_return = np.mean(returns)\n",
    "    downside_std = np.sqrt(np.std(downside_returns))\n",
    "\n",
    "    return (expected_return - _risk_free_rate + 1e-9) / (downside_std + 1e-9)\n",
    "\n",
    "\n",
    "print(_sortino_ratio(pd.Series(np.diff([1.0, 1.1, 1.0, 1.2, 1.3]))))\n",
    "print(_sortino_ratio(pd.Series(np.diff([1.0, 1.1, 1.1, 1.2, 1.3]))))\n",
    "print(_sortino_ratio(pd.Series(np.diff([1.0, 1.1, 1.1, 1.2, 1.1]))))\n",
    "print(_sortino_ratio(pd.Series(np.diff([1.0, 1.1, 1.1, 1.2, 1.3, 1.4]))))\n",
    "print(_sortino_ratio(pd.Series(np.diff([1.0, 1.5, 1.5, 2.5, 3.0, 3.5]))))\n",
    "print(_sortino_ratio(pd.Series(np.diff([1.0, 1.5, 2.0, 1.5, 3.0, 3.5]))))"
   ],
   "metadata": {
    "collapsed": false
   }
  },
  {
   "cell_type": "code",
   "execution_count": 29,
   "outputs": [
    {
     "name": "stdout",
     "output_type": "stream",
     "text": [
      "0.6882472044725251\n",
      "1.7320507906628884\n",
      "0.30151135300185417\n",
      "1.999999975000001\n",
      "1.3176156908998335\n",
      "0.7905694153732337\n",
      "10000001.000000007\n",
      "2.9999996000000797\n",
      "0.010000000000000009\n",
      "0.0050000000000000044\n",
      "1.0\n"
     ]
    }
   ],
   "source": [
    "import pandas as pd\n",
    "_risk_free_rate = 0\n",
    "_target_returns = 0\n",
    "\n",
    "def _sharpe_ratio(returns: 'pd.Series') -> float:\n",
    "    return (np.mean(returns) - _risk_free_rate + 1e-9) / (np.std(returns) + 1e-9)\n",
    "\n",
    "\n",
    "print(_sharpe_ratio(pd.Series(np.diff([1.0, 1.1, 1.0, 1.2, 1.3]))))\n",
    "print(_sharpe_ratio(pd.Series(np.diff([1.0, 1.1, 1.1, 1.2, 1.3]))))\n",
    "print(_sharpe_ratio(pd.Series(np.diff([1.0, 1.1, 1.1, 1.2, 1.1]))))\n",
    "print(_sharpe_ratio(pd.Series(np.diff([1.0, 1.1, 1.1, 1.2, 1.3, 1.4]))))\n",
    "print(_sharpe_ratio(pd.Series(np.diff([1.0, 1.5, 1.4, 2.5, 3.0, 3.5]))))\n",
    "print(_sharpe_ratio(pd.Series(np.diff([1.0, 1.5, 2.0, 1.5, 3.0, 3.5]))))\n",
    "print(_sharpe_ratio(pd.Series(np.diff([1.0, 1.01 , 1.02]))))\n",
    "print(_sharpe_ratio(pd.Series(np.diff([1.0, 1.02,  1.03]))))\n",
    "print(np.mean(np.diff([1.0, 1.01 , 1.02])))\n",
    "print(np.std(np.diff([1.0, 1.02,  1.03])))\n",
    "print(_sharpe_ratio(pd.Series(np.diff([1.0, 1.0,  1.0]))))"
   ],
   "metadata": {
    "collapsed": false
   }
  }
 ],
 "metadata": {
  "kernelspec": {
   "display_name": "Python 3",
   "language": "python",
   "name": "python3"
  },
  "language_info": {
   "codemirror_mode": {
    "name": "ipython",
    "version": 2
   },
   "file_extension": ".py",
   "mimetype": "text/x-python",
   "name": "python",
   "nbconvert_exporter": "python",
   "pygments_lexer": "ipython2",
   "version": "2.7.6"
  }
 },
 "nbformat": 4,
 "nbformat_minor": 0
}
