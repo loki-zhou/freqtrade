{
 "cells": [
  {
   "cell_type": "code",
   "execution_count": 2,
   "metadata": {
    "collapsed": true
   },
   "outputs": [
    {
     "name": "stdout",
     "output_type": "stream",
     "text": [
      "165.45392107774285\n",
      "165.45392107774285\n"
     ]
    }
   ],
   "source": [
    "from empyrical import sortino_ratio\n",
    "import numpy as np\n",
    "a = [1.0, 1.01, 0.95, 0.96, 0.98, 0.99, 1.1, 1.2, 1.3]\n",
    "returns = np.diff(a)\n",
    "reward = sortino_ratio(returns, annualization=365*24)\n",
    "print(reward)\n",
    "print(reward if np.isfinite(reward) else 0)"
   ]
  }
 ],
 "metadata": {
  "kernelspec": {
   "display_name": "Python 3",
   "language": "python",
   "name": "python3"
  },
  "language_info": {
   "codemirror_mode": {
    "name": "ipython",
    "version": 2
   },
   "file_extension": ".py",
   "mimetype": "text/x-python",
   "name": "python",
   "nbconvert_exporter": "python",
   "pygments_lexer": "ipython2",
   "version": "2.7.6"
  }
 },
 "nbformat": 4,
 "nbformat_minor": 0
}
