{
 "cells": [
  {
   "cell_type": "markdown",
   "source": [
    "### 分支管理\n",
    "```\n",
    "git branch owntrade\n",
    "git push -u origin owntrade\n",
    "```"
   ],
   "metadata": {
    "collapsed": false
   }
  },
  {
   "cell_type": "markdown",
   "source": [
    "网友收集的项目\n",
    "https://github.com/thinkong/awesomefreqtrade"
   ],
   "metadata": {
    "collapsed": false
   }
  },
  {
   "cell_type": "markdown",
   "source": [],
   "metadata": {
    "collapsed": false
   }
  },
  {
   "cell_type": "markdown",
   "source": [
    "##  笔记\n",
    "### 生成默认的user_data\n",
    "```\n",
    "pycharm\n",
    "main.py  create-userdir --userdir user_data --reset\n",
    "```"
   ],
   "metadata": {
    "collapsed": false
   }
  },
  {
   "cell_type": "markdown",
   "source": [
    "### 创建新的config\n",
    "```\n",
    "main.py  new-config --config user_data/config.json\n",
    "```"
   ],
   "metadata": {
    "collapsed": false
   }
  },
  {
   "cell_type": "markdown",
   "source": [
    "### 下载数据\n",
    "```\n",
    "main.py download-data --exchange binance --pairs-file user_data/data/binance/pairs.json --timeframes 1m 5m\n",
    "main.py download-data --exchange binance --pairs BTC/USDT:USDT ETH/USDT:USDT 1INCH/USDT:USDT ALGO/USDT:USDT --trading-mode futures --timerange 20220101- -t 3m 15m 1h\n",
    "main.py list-data\n",
    "main.py list-data --show-timerange\n",
    "```"
   ],
   "metadata": {
    "collapsed": false
   }
  },
  {
   "cell_type": "markdown",
   "source": [],
   "metadata": {
    "collapsed": false
   }
  },
  {
   "cell_type": "markdown",
   "source": [
    "\n",
    "freqtrade backtesting --strategy AwesomeStrategy\n",
    "freqtrade install-ui\n",
    "freqtrade plot-dataframe -p BTC/USDT:USDT --strategy AwesomeStrategy\n",
    "freqtrade backtesting --strategy E0V1E\n",
    "freqtrade plot-dataframe -p BTC/USDT:USDT --strategy E0V1E\n",
    "freqtrade hyperopt --hyperopt-loss SortinoHyperOptLossDaily --spaces buy --hyperopt-loss SortinoHyperOptLoss --spaces sell --strategy E0V1E"
   ],
   "metadata": {
    "collapsed": false
   }
  },
  {
   "cell_type": "code",
   "execution_count": null,
   "outputs": [],
   "source": [],
   "metadata": {
    "collapsed": false
   }
  },
  {
   "cell_type": "markdown",
   "source": [],
   "metadata": {
    "collapsed": false
   }
  },
  {
   "cell_type": "markdown",
   "source": [],
   "metadata": {
    "collapsed": false
   }
  },
  {
   "cell_type": "markdown",
   "source": [
    "backtesting --strategy FreqaiExampleRLStrategy --strategy-path freqtrade/templates --config config_examples/config_freqai.RL.example.json --freqaimodel ReinforcementLearner --timerange 20220601-20221128 --breakdown day week\n",
    "\n",
    "\n",
    "backtesting --strategy AwesomeStrategy\n",
    "\n",
    "\n",
    "backtesting --strategy FreqaiExampleRLStrategy --strategy-path freqtrade/templates --config config_examples/config_freqai.RL.example.json --freqaimodel ReinforcementLearner --timerange 20220601-20221128 --breakdown day week\n",
    "\n",
    "\n",
    "plot-dataframe --strategy FreqaiExampleRLStrategy --strategy-path freqtrade/templates --config config_examples/config_freqai.RL.example.json --freqaimodel ReinforcementLearner --timerange 20220601-20221128\n",
    "\n",
    "backtesting --strategy FreqaiExampleRLStrategy --strategy-path freqtrade/templates --config config_examples/config_freqai.RL.example.json --freqaimodel ReinforcementLearner --timerange 20220201-20230201 --breakdown day week\n",
    "\n",
    "plot-dataframe --strategy FreqaiExampleRLStrategy --strategy-path freqtrade/templates --config config_examples/config_freqai.RL.example.json --freqaimodel ReinforcementLearner --timerange 20230101-20230201\n",
    "\n",
    "\n",
    "plot-dataframe --strategy FreqaiExampleRLStrategy --strategy-path freqtrade/templates --config config_examples/config_freqai.RL.example.json --freqaimodel ReinforcementLearner --timerange 20220201-20230201"
   ],
   "metadata": {
    "collapsed": false
   }
  },
  {
   "cell_type": "markdown",
   "source": [
    "\n",
    "tensorboard --logdir user_data/models/unique-id"
   ],
   "metadata": {
    "collapsed": false
   }
  }
 ],
 "metadata": {
  "kernelspec": {
   "display_name": "Python 3",
   "language": "python",
   "name": "python3"
  },
  "language_info": {
   "codemirror_mode": {
    "name": "ipython",
    "version": 2
   },
   "file_extension": ".py",
   "mimetype": "text/x-python",
   "name": "python",
   "nbconvert_exporter": "python",
   "pygments_lexer": "ipython2",
   "version": "2.7.6"
  }
 },
 "nbformat": 4,
 "nbformat_minor": 0
}
