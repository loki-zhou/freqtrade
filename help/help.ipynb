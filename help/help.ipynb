{
 "cells": [
  {
   "cell_type": "markdown",
   "source": [
    "### 分支管理\n",
    "```\n",
    "git branch owntrade\n",
    "git push -u origin owntrade\n",
    "```"
   ],
   "metadata": {
    "collapsed": false
   }
  },
  {
   "cell_type": "markdown",
   "source": [
    "##  笔记\n",
    "### 生成默认的user_data\n",
    "```\n",
    "pycharm\n",
    "main.py  create-userdir --userdir user_data --reset\n",
    "```"
   ],
   "metadata": {
    "collapsed": false
   }
  },
  {
   "cell_type": "markdown",
   "source": [
    "### 创建新的config\n",
    "```\n",
    "main.py  new-config --config user_data/config.json\n",
    "```"
   ],
   "metadata": {
    "collapsed": false
   }
  },
  {
   "cell_type": "markdown",
   "source": [
    "### 下载数据\n",
    "```\n",
    "main.py download-data --exchange binance --pairs-file user_data/data/binance/pairs.json --timeframes 1m 5m\n",
    "\n",
    "main.py list-data\n",
    "```"
   ],
   "metadata": {
    "collapsed": false
   }
  },
  {
   "cell_type": "markdown",
   "source": [],
   "metadata": {
    "collapsed": false
   }
  }
 ],
 "metadata": {
  "kernelspec": {
   "display_name": "Python 3",
   "language": "python",
   "name": "python3"
  },
  "language_info": {
   "codemirror_mode": {
    "name": "ipython",
    "version": 2
   },
   "file_extension": ".py",
   "mimetype": "text/x-python",
   "name": "python",
   "nbconvert_exporter": "python",
   "pygments_lexer": "ipython2",
   "version": "2.7.6"
  }
 },
 "nbformat": 4,
 "nbformat_minor": 0
}
