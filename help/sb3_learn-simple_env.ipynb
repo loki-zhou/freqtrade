{
 "cells": [
  {
   "cell_type": "code",
   "execution_count": null,
   "outputs": [],
   "source": [
    "import gym\n",
    "from gym import spaces\n",
    "\n",
    "\n",
    "class MySim(gym.Env):\n",
    "    def __init__(self):\n",
    "        self.action_space = spaces.Discrete(5)\n",
    "        self.observation_space = spaces.Discrete(2)\n",
    "        self.total_step = 0\n",
    "\n",
    "    def step(self, action):\n",
    "        state = 1\n",
    "\n",
    "        if action == 2:\n",
    "            reward = 1\n",
    "        else:\n",
    "            reward = -1\n",
    "        done = True\n",
    "        info = {}\n",
    "        self.total_step = self.total_step + 1\n",
    "        print(self.total_step)\n",
    "        return state, reward, done, info\n",
    "\n",
    "    def reset(self):\n",
    "        print(\"end step = \", self.total_step)\n",
    "        state = 0\n",
    "        return state\n",
    "\n",
    "    def render(self, mode='human'):\n",
    "        pass\n",
    "\n",
    "    def seed(self, seed=None):\n",
    "        pass"
   ],
   "metadata": {
    "collapsed": false
   }
  },
  {
   "cell_type": "code",
   "execution_count": null,
   "outputs": [],
   "source": [
    "from stable_baselines3.common.env_checker import check_env\n",
    "env = MySim()\n",
    "check_env(env)"
   ],
   "metadata": {
    "collapsed": false
   }
  },
  {
   "cell_type": "code",
   "execution_count": null,
   "outputs": [],
   "source": [
    "\n",
    "from stable_baselines3 import DQN\n",
    "env = MySim()\n",
    "\n",
    "model = DQN(policy=\"MlpPolicy\", env=env, verbose=1)\n",
    "model.learn(total_timesteps=100)\n",
    "\n",
    "# obs = env.reset()\n",
    "# 验证十次\n",
    "# for _ in range(10):\n",
    "#     action, state = model.predict(observation=obs)\n",
    "#     print(action)\n",
    "#     obs, reward, done, info = env.step(action)\n",
    "#     env.render()"
   ],
   "metadata": {
    "collapsed": false
   }
  }
 ],
 "metadata": {
  "kernelspec": {
   "display_name": "Python 3",
   "language": "python",
   "name": "python3"
  },
  "language_info": {
   "codemirror_mode": {
    "name": "ipython",
    "version": 2
   },
   "file_extension": ".py",
   "mimetype": "text/x-python",
   "name": "python",
   "nbconvert_exporter": "python",
   "pygments_lexer": "ipython2",
   "version": "2.7.6"
  }
 },
 "nbformat": 4,
 "nbformat_minor": 0
}
